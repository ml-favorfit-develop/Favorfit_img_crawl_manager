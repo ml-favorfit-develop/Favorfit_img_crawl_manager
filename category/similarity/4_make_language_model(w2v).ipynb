{
 "cells": [
  {
   "cell_type": "code",
   "execution_count": 1,
   "metadata": {},
   "outputs": [],
   "source": [
    "import json"
   ]
  },
  {
   "cell_type": "code",
   "execution_count": 3,
   "metadata": {},
   "outputs": [],
   "source": [
    "base_path = \"../data/unsplash/eng/\""
   ]
  },
  {
   "cell_type": "code",
   "execution_count": 4,
   "metadata": {},
   "outputs": [],
   "source": [
    "with open(base_path + \"graph/edges.json\", mode=\"r\") as f:\n",
    "    json_file = json.load(f)"
   ]
  },
  {
   "cell_type": "code",
   "execution_count": 5,
   "metadata": {},
   "outputs": [],
   "source": [
    "from itertools import permutations"
   ]
  },
  {
   "cell_type": "code",
   "execution_count": 6,
   "metadata": {},
   "outputs": [],
   "source": [
    "# 프로그레스 바를 출력하는 함수\n",
    "def print_progress_bar(iteration, total, prefix='Complete', suffix='', decimals=5, length=100, fill='█', print_end='\\r'):\n",
    "    \"\"\"\n",
    "    Parameters:\n",
    "        iteration (int): 현재 진행된 작업 수\n",
    "        total (int): 전체 작업 수\n",
    "        prefix (str): 프로그레스 바 앞에 추가할 텍스트\n",
    "        suffix (str): 프로그레스 바 뒤에 추가할 텍스트\n",
    "        decimals (int): 백분율에서 소수점 이하 자릿수\n",
    "        length (int): 프로그레스 바의 총 길이 (글자 수)\n",
    "        fill (str): 프로그레스 바의 채우는 문자\n",
    "        print_end (str): 프로그레스 바 출력 후 커서의 위치를 조정하는 문자열\n",
    "    \"\"\"\n",
    "    # 현재 진행된 작업의 백분율 계산\n",
    "    percent = (\"{0:.\" + str(decimals) + \"f}\").format(100 * (iteration / float(total)))\n",
    "\n",
    "    # 프로그레스 바의 채워진 길이 계산\n",
    "    filled_length = int(length * iteration // total)\n",
    "\n",
    "    # 프로그레스 바 출력\n",
    "    bar = fill * filled_length + '-' * (length - filled_length)\n",
    "    print(f'\\r{prefix} |{bar}| {percent}% {suffix}', end=print_end)\n",
    "\n",
    "    # 모든 작업이 끝나면 줄바꿈\n",
    "    if iteration == total:\n",
    "        print()"
   ]
  },
  {
   "cell_type": "code",
   "execution_count": 7,
   "metadata": {},
   "outputs": [],
   "source": [
    "import random"
   ]
  },
  {
   "cell_type": "code",
   "execution_count": 6,
   "metadata": {},
   "outputs": [
    {
     "name": "stdout",
     "output_type": "stream",
     "text": [
      "Complete |████████████████████████████████████████████████████████████████████████████████████████████████████| 100.00000% \n"
     ]
    }
   ],
   "source": [
    "iteration = 0\n",
    "total = len(json_file)\n",
    "t = 0\n",
    "sentences = []\n",
    "for key in json_file:\n",
    "    if len(json_file[key]) > 7:\n",
    "        for x in range(7):\n",
    "            temp_list = [key]\n",
    "            temp_list.extend(random.sample(json_file[key], 7))\n",
    "            sentences.append(temp_list)\n",
    "    else:\n",
    "        t+=1\n",
    "        temp_list = [key]\n",
    "        temp_list.extend(json_file[key])\n",
    "    sentences.append(temp_list)\n",
    "\n",
    "    iteration+=1\n",
    "    print_progress_bar(iteration, total)"
   ]
  },
  {
   "cell_type": "code",
   "execution_count": 10,
   "metadata": {},
   "outputs": [],
   "source": [
    "from gensim.models import Word2Vec"
   ]
  },
  {
   "cell_type": "code",
   "execution_count": 1,
   "metadata": {},
   "outputs": [
    {
     "ename": "NameError",
     "evalue": "name 'sentences' is not defined",
     "output_type": "error",
     "traceback": [
      "\u001b[1;31m---------------------------------------------------------------------------\u001b[0m",
      "\u001b[1;31mNameError\u001b[0m                                 Traceback (most recent call last)",
      "\u001b[1;32m~\\AppData\\Local\\Temp\\ipykernel_22248\\550107578.py\u001b[0m in \u001b[0;36m<module>\u001b[1;34m\u001b[0m\n\u001b[0;32m      6\u001b[0m \u001b[1;33m\u001b[0m\u001b[0m\n\u001b[0;32m      7\u001b[0m \u001b[1;31m# Initialize and train a Word2Vec model\u001b[0m\u001b[1;33m\u001b[0m\u001b[1;33m\u001b[0m\u001b[1;33m\u001b[0m\u001b[0m\n\u001b[1;32m----> 8\u001b[1;33m \u001b[0mmodel\u001b[0m \u001b[1;33m=\u001b[0m \u001b[0mWord2Vec\u001b[0m\u001b[1;33m(\u001b[0m\u001b[0msentences\u001b[0m\u001b[1;33m,\u001b[0m \u001b[0msize\u001b[0m\u001b[1;33m=\u001b[0m\u001b[1;36m200\u001b[0m\u001b[1;33m,\u001b[0m \u001b[0mwindow\u001b[0m\u001b[1;33m=\u001b[0m\u001b[1;36m7\u001b[0m\u001b[1;33m,\u001b[0m \u001b[0mmin_count\u001b[0m\u001b[1;33m=\u001b[0m\u001b[1;36m1\u001b[0m\u001b[1;33m,\u001b[0m \u001b[0mworkers\u001b[0m\u001b[1;33m=\u001b[0m\u001b[1;36m4\u001b[0m\u001b[1;33m)\u001b[0m\u001b[1;33m\u001b[0m\u001b[1;33m\u001b[0m\u001b[0m\n\u001b[0m\u001b[0;32m      9\u001b[0m \u001b[1;33m\u001b[0m\u001b[0m\n\u001b[0;32m     10\u001b[0m \u001b[1;31m# Save the model\u001b[0m\u001b[1;33m\u001b[0m\u001b[1;33m\u001b[0m\u001b[1;33m\u001b[0m\u001b[0m\n",
      "\u001b[1;31mNameError\u001b[0m: name 'sentences' is not defined"
     ]
    }
   ],
   "source": [
    "model = Word2Vec(sentences, size=200, window=7, min_count=1, workers=4)\n",
    "\n",
    "\n",
    "model.save(\"word2vec.model\")"
   ]
  },
  {
   "cell_type": "code",
   "execution_count": 11,
   "metadata": {},
   "outputs": [],
   "source": [
    "model = Word2Vec.load(base_path + \"unsplash_w2v.model\")"
   ]
  },
  {
   "cell_type": "code",
   "execution_count": 12,
   "metadata": {},
   "outputs": [
    {
     "data": {
      "text/plain": [
       "0.72686166"
      ]
     },
     "execution_count": 12,
     "metadata": {},
     "output_type": "execute_result"
    }
   ],
   "source": [
    "model.wv.similarity(\"clothe\",\"clothing\")"
   ]
  },
  {
   "cell_type": "code",
   "execution_count": 13,
   "metadata": {},
   "outputs": [
    {
     "data": {
      "text/plain": [
       "[('cell phone', 0.970771312713623),\n",
       " ('mobile phone', 0.9675197005271912),\n",
       " ('iphone', 0.9671925902366638),\n",
       " ('samsung galaxy', 0.9587449431419373),\n",
       " ('samsung', 0.9415921568870544),\n",
       " ('smartphone', 0.9348809719085693),\n",
       " ('mobile', 0.928574800491333),\n",
       " ('app', 0.922946572303772),\n",
       " ('apps', 0.92249596118927),\n",
       " ('tech', 0.9197774529457092),\n",
       " ('s21 ultra', 0.9100490808486938),\n",
       " ('internet', 0.9088671207427979),\n",
       " ('electronic product', 0.9030004739761353),\n",
       " ('technology', 0.9002518653869629),\n",
       " ('future', 0.899218738079071),\n",
       " ('influencer marketing', 0.8991088271141052),\n",
       " ('iphone12', 0.8985467553138733),\n",
       " ('ipad', 0.8983734250068665),\n",
       " ('iphone12pro', 0.8956483006477356),\n",
       " ('samsung galaxy s20', 0.8909111022949219),\n",
       " ('electronic', 0.8872311115264893),\n",
       " ('wifi network', 0.8852973580360413),\n",
       " ('wifi', 0.8847225308418274),\n",
       " ('ipod shuffle', 0.8828895092010498),\n",
       " ('galaxy s21 ultra', 0.8828243613243103),\n",
       " ('social medium', 0.882233738899231),\n",
       " ('network', 0.8801377415657043),\n",
       " ('tiktok', 0.8801334500312805),\n",
       " ('twitter', 0.8799742460250854),\n",
       " ('datum', 0.8760583996772766),\n",
       " ('digital', 0.8747363686561584),\n",
       " ('xiaomi 11 ultra', 0.8727760910987854),\n",
       " ('tablet computer', 0.8716719746589661),\n",
       " ('url', 0.8713536262512207),\n",
       " ('samsung galaxy s21 ultra', 0.8704527020454407),\n",
       " ('google', 0.8702117204666138),\n",
       " ('artificial', 0.8689612746238708),\n",
       " ('gmail', 0.8685023188591003),\n",
       " ('macbook', 0.8683540225028992),\n",
       " ('ipod', 0.867609977722168),\n",
       " ('email marketing', 0.8670667409896851),\n",
       " ('tweet', 0.8667592406272888),\n",
       " ('artificielle', 0.865447461605072),\n",
       " ('leica r', 0.8632429838180542),\n",
       " ('inbox', 0.8617967367172241),\n",
       " ('apple iphone', 0.8613504767417908),\n",
       " ('data privacy', 0.8612558245658875),\n",
       " ('register', 0.8610590100288391),\n",
       " ('linkedin logo', 0.860918402671814),\n",
       " ('case', 0.8607764840126038),\n",
       " ('apple airpod', 0.8547056317329407),\n",
       " ('youtube', 0.854611337184906),\n",
       " ('wireless', 0.854102611541748),\n",
       " ('mechanical keyboard', 0.8539721369743347),\n",
       " ('galaxy s21', 0.8534270524978638),\n",
       " ('facebook ads', 0.8533264398574829),\n",
       " ('byte', 0.8514790534973145),\n",
       " ('security system', 0.8514180779457092),\n",
       " ('newsletters', 0.8496043086051941),\n",
       " ('intelligence', 0.849556565284729),\n",
       " ('galaxy s20', 0.8493824601173401),\n",
       " ('robotic', 0.8486112952232361),\n",
       " ('人工知能', 0.8483688235282898),\n",
       " ('facebook', 0.8480237722396851),\n",
       " ('coding', 0.8479771018028259),\n",
       " ('wiring', 0.8478249907493591),\n",
       " ('linkedin', 0.847632646560669),\n",
       " ('google ads', 0.8475832343101501),\n",
       " ('playstation 5', 0.8472558259963989),\n",
       " ('iphone x', 0.8470664024353027),\n",
       " ('playstation', 0.846350908279419),\n",
       " ('nintendo', 0.8461909890174866),\n",
       " ('video gaming', 0.8460565209388733),\n",
       " ('youtube logo', 0.8456553816795349),\n",
       " ('apple ipod', 0.8448228240013123),\n",
       " ('dualsense', 0.8443828225135803),\n",
       " ('the source', 0.844264566898346),\n",
       " ('machine learning', 0.8430582880973816),\n",
       " ('social media', 0.8427243232727051),\n",
       " ('android', 0.8423652052879333),\n",
       " ('problem', 0.8413578271865845),\n",
       " ('graphics design', 0.8412078619003296),\n",
       " ('influencers', 0.8410372734069824),\n",
       " ('apple pencil', 0.8409042954444885),\n",
       " ('electronic chip', 0.8404320478439331),\n",
       " ('iphone 12 wallpaper', 0.838795006275177),\n",
       " ('gadget', 0.838736355304718),\n",
       " ('xiaomi', 0.8385360240936279),\n",
       " ('hardware', 0.8377019762992859),\n",
       " ('chatting', 0.8373870253562927),\n",
       " ('artificial intelligence', 0.8371604084968567),\n",
       " ('keeb', 0.8366634249687195),\n",
       " ('switch', 0.8366314172744751),\n",
       " ('tech product', 0.8356260061264038),\n",
       " ('gaming', 0.8345954418182373),\n",
       " ('email', 0.8343154191970825),\n",
       " ('tkl', 0.8331186175346375),\n",
       " ('telephone', 0.8328067660331726),\n",
       " ('neural network', 0.8321535587310791),\n",
       " ('headphone', 0.830866813659668)]"
      ]
     },
     "execution_count": 13,
     "metadata": {},
     "output_type": "execute_result"
    }
   ],
   "source": [
    "model.wv.most_similar(\"phone\", topn=100)"
   ]
  },
  {
   "cell_type": "code",
   "execution_count": 20,
   "metadata": {},
   "outputs": [],
   "source": [
    "with open(base_path + \"img_num_for_tag.json\", mode=\"r\") as f:\n",
    "    category_json = json.load(f)"
   ]
  },
  {
   "cell_type": "code",
   "execution_count": 21,
   "metadata": {},
   "outputs": [],
   "source": [
    "category = list(category_json.keys())"
   ]
  },
  {
   "cell_type": "code",
   "execution_count": 23,
   "metadata": {},
   "outputs": [
    {
     "data": {
      "text/plain": [
       "[('coat', 0.946588397026062),\n",
       " ('overcoat', 0.9348546862602234),\n",
       " ('jacket', 0.9304691553115845),\n",
       " ('tuxedo', 0.9195637106895447),\n",
       " ('outfit', 0.9191015958786011),\n",
       " ('sleeve', 0.9190013408660889),\n",
       " ('professional headshot', 0.9180609583854675),\n",
       " ('hat', 0.9123088717460632),\n",
       " ('hoodie', 0.9063379168510437),\n",
       " ('footwear', 0.9060640335083008)]"
      ]
     },
     "execution_count": 23,
     "metadata": {},
     "output_type": "execute_result"
    }
   ],
   "source": [
    "model.wv.most_similar([\"clothing\", \"suit\"], topn=10)"
   ]
  },
  {
   "cell_type": "code",
   "execution_count": 26,
   "metadata": {},
   "outputs": [
    {
     "data": {
      "text/plain": [
       "[('cosmetics', 0.9884063601493835),\n",
       " ('makeup foundation', 0.981127917766571),\n",
       " ('make up artist', 0.9807786345481873),\n",
       " ('makeup artist', 0.9792401790618896),\n",
       " ('base makeup', 0.9759214520454407),\n",
       " ('foundation bottle', 0.9756264686584473),\n",
       " ('liquid foundation', 0.9710038304328918),\n",
       " ('fake eyelash', 0.9692165851593018),\n",
       " ('bridal', 0.9685066938400269),\n",
       " ('weddinginspiration', 0.9682590961456299),\n",
       " ('onesie mockup', 0.9666374325752258),\n",
       " ('matte lipstick', 0.9664223790168762),\n",
       " ('#portrait', 0.966335654258728),\n",
       " ('face makeup', 0.9662990570068359),\n",
       " ('lash', 0.9643658995628357),\n",
       " ('travel accessory', 0.9641865491867065),\n",
       " ('nails', 0.9634972214698792),\n",
       " ('beauty products', 0.9627964496612549),\n",
       " ('pre casamento', 0.9608349800109863),\n",
       " ('cosmetic cream', 0.9607117176055908)]"
      ]
     },
     "execution_count": 26,
     "metadata": {},
     "output_type": "execute_result"
    }
   ],
   "source": [
    "model.wv.most_similar([\"makeup products\"], topn=20)"
   ]
  },
  {
   "cell_type": "code",
   "execution_count": 18,
   "metadata": {},
   "outputs": [],
   "source": [
    "categories = [\n",
    "    [\"cosmetics\", \"beauty\", \"skincare\", \"makeup\", \"lotion\", \"perfume\", \"nail\", \"shampoo\"],\n",
    "    [\"medicine\", \"pill\"],\n",
    "    [\"food\", \"fresh\", \"snacks\", \"diet\", \"coffee\", \"beverage\"],\n",
    "    [\"hardware\", \"appliance\", \"laptop\", \"desktop\", \"appliance\", \"air conditioners\", \"digital\"]\n",
    "]"
   ]
  },
  {
   "cell_type": "code",
   "execution_count": 21,
   "metadata": {},
   "outputs": [],
   "source": [
    "tag_set = set()\n",
    "tag_dict = {}\n",
    "for category in categories:\n",
    "    for cur in category:\n",
    "        try:\n",
    "            tag_dict[cur] = list(x for x in model.wv.most_similar(cur, topn=10))\n",
    "            tag_set = tag_set.union(set(x[0] for x in model.wv.most_similar(cur, topn=10)))\n",
    "        except:\n",
    "            print(cur)"
   ]
  },
  {
   "cell_type": "code",
   "execution_count": 22,
   "metadata": {},
   "outputs": [
    {
     "data": {
      "text/plain": [
       "{'cosmetics': [('makeup products', 0.9884063601493835),\n",
       "  ('make up artist', 0.9878052473068237),\n",
       "  ('makeup foundation', 0.9858272075653076),\n",
       "  ('foundation bottle', 0.9838762879371643),\n",
       "  ('base makeup', 0.9838501214981079),\n",
       "  ('liquid foundation', 0.9799516201019287),\n",
       "  ('nails', 0.9781519174575806),\n",
       "  ('cosmetic cream', 0.9773248434066772),\n",
       "  ('face makeup', 0.975510835647583),\n",
       "  ('#portrait', 0.9702872037887573)],\n",
       " 'beauty': [('skin', 0.9722716808319092),\n",
       "  ('cosmetic', 0.964098334312439),\n",
       "  ('skincare', 0.9637774229049683),\n",
       "  ('manicure', 0.9406736493110657),\n",
       "  ('feminine product', 0.9348511695861816),\n",
       "  ('skin care', 0.9295293688774109),\n",
       "  ('cosmetics bottle', 0.9255433082580566),\n",
       "  ('beauty salon', 0.9237502813339233),\n",
       "  ('make up face', 0.921851634979248),\n",
       "  ('nail polish', 0.9115258455276489)],\n",
       " 'skincare': [('skin care', 0.9824130535125732),\n",
       "  ('cosmetics bottle', 0.9700331687927246),\n",
       "  ('moisturizer', 0.9694293737411499),\n",
       "  ('cosmetic', 0.9671645760536194),\n",
       "  ('shampoo bottle', 0.9654762148857117),\n",
       "  ('beauty product', 0.9638358354568481),\n",
       "  ('beauty', 0.9637774229049683),\n",
       "  ('lotion', 0.9617453813552856),\n",
       "  ('face cream', 0.9531669020652771),\n",
       "  ('skin', 0.9522241950035095)],\n",
       " 'makeup': [('makeup product', 0.981741726398468),\n",
       "  ('lipstick', 0.9809613227844238),\n",
       "  ('product photo', 0.9770147800445557),\n",
       "  ('makeup brush', 0.9734773635864258),\n",
       "  ('mascara', 0.9706225395202637),\n",
       "  ('make up face', 0.9543469548225403),\n",
       "  ('travel makeup', 0.9528577327728271),\n",
       "  ('hand model', 0.9507464170455933),\n",
       "  ('make', 0.9495010375976562),\n",
       "  ('miss swiss', 0.9460604190826416)],\n",
       " 'lotion': [('beauty product', 0.9942629337310791),\n",
       "  ('moisturizer', 0.9933258295059204),\n",
       "  ('skin care products', 0.989158034324646),\n",
       "  ('face cream', 0.9890901446342468),\n",
       "  ('night cream', 0.9889011383056641),\n",
       "  ('moisturiser', 0.9888418316841125),\n",
       "  ('skin care', 0.9840052723884583),\n",
       "  ('shampoo bottle', 0.9828035831451416),\n",
       "  ('shampoo', 0.9796324372291565),\n",
       "  ('make-up', 0.9781163334846497)],\n",
       " 'perfume': [('bottle', 0.9112018346786499),\n",
       "  ('cosmetic', 0.8528837561607361),\n",
       "  ('manicure', 0.8520185351371765),\n",
       "  ('glass', 0.8484641313552856),\n",
       "  ('polish', 0.8423711657524109),\n",
       "  ('glasses frame', 0.8352850079536438),\n",
       "  ('sunglasses', 0.8323816657066345),\n",
       "  ('jar', 0.8315156698226929),\n",
       "  ('product', 0.8297692537307739),\n",
       "  ('clean', 0.8263403177261353)],\n",
       " 'nail': [('nail polish', 0.9392408132553101),\n",
       "  ('manicure', 0.9302629232406616),\n",
       "  ('product', 0.9086536765098572),\n",
       "  ('mock-up', 0.9062649011611938),\n",
       "  ('spray', 0.9038233757019043),\n",
       "  ('birthday party', 0.9004289507865906),\n",
       "  ('tissue', 0.8959875106811523),\n",
       "  ('serum', 0.8949830532073975),\n",
       "  ('skin care products', 0.8942437767982483),\n",
       "  ('mock up', 0.8933192491531372)],\n",
       " 'shampoo': [('shampoo bottle', 0.9882809519767761),\n",
       "  ('lotion', 0.9796323776245117),\n",
       "  ('moisturizer', 0.975501537322998),\n",
       "  ('beauty product', 0.9701119661331177),\n",
       "  ('face cream', 0.9695613384246826),\n",
       "  ('night cream', 0.9670940041542053),\n",
       "  ('moisturiser', 0.965877115726471),\n",
       "  ('skin care products', 0.9654347896575928),\n",
       "  ('skin care', 0.9647852182388306),\n",
       "  ('make-up', 0.9645094871520996)],\n",
       " 'medicine': [('treatment', 0.9901570081710815),\n",
       "  ('pharmacist', 0.9886095523834229),\n",
       "  ('pharmacy', 0.9879752397537231),\n",
       "  ('pill', 0.9798486828804016),\n",
       "  ('medication', 0.9794450998306274),\n",
       "  ('capsule', 0.9767777919769287),\n",
       "  ('pharma', 0.974419116973877),\n",
       "  ('blood pressure', 0.9733203649520874),\n",
       "  ('radiologist', 0.9717399477958679),\n",
       "  ('pharmaceutical', 0.9714486598968506)],\n",
       " 'pill': [('capsule', 0.9873180389404297),\n",
       "  ('medication', 0.9867635369300842),\n",
       "  ('contraceptive', 0.9866538047790527),\n",
       "  ('reproductive', 0.9857903718948364),\n",
       "  ('iud', 0.9840982556343079),\n",
       "  ('pharmaceutical', 0.9832072854042053),\n",
       "  ('contraception', 0.9829259514808655),\n",
       "  ('method', 0.9811091423034668),\n",
       "  ('remedy', 0.9804949760437012),\n",
       "  ('medicine', 0.9798487424850464)],\n",
       " 'food': [('food market', 0.8788691759109497),\n",
       "  ('fruit', 0.8754910826683044),\n",
       "  ('sweet', 0.8742085695266724),\n",
       "  ('spice', 0.8731651902198792),\n",
       "  ('dessert', 0.869789719581604),\n",
       "  ('grain', 0.869741678237915),\n",
       "  ('gelato', 0.8696370124816895),\n",
       "  ('onion ring', 0.8680269718170166),\n",
       "  ('egg', 0.8651190400123596),\n",
       "  ('confectionery', 0.8623833060264587)],\n",
       " 'fresh': [('organic', 0.9856946468353271),\n",
       "  ('juicy', 0.9840730428695679),\n",
       "  ('banana', 0.982811689376831),\n",
       "  ('ripe', 0.9782896041870117),\n",
       "  ('watermelon', 0.9766492247581482),\n",
       "  ('pepper', 0.9742010831832886),\n",
       "  ('kiwi', 0.9734325408935547),\n",
       "  ('strawberry', 0.9723029136657715),\n",
       "  ('spicy', 0.972273588180542),\n",
       "  ('bean', 0.9716949462890625)],\n",
       " 'snacks': [('melon', 0.9679007530212402),\n",
       "  ('unporn', 0.9652555584907532),\n",
       "  ('aubergine', 0.9641050100326538),\n",
       "  ('masturbation', 0.9631924629211426),\n",
       "  ('fingering', 0.9631105661392212),\n",
       "  ('sex ed', 0.9607852697372437),\n",
       "  ('nature zen', 0.9602150917053223),\n",
       "  ('sex education', 0.9593393802642822),\n",
       "  ('crisp', 0.9572921991348267),\n",
       "  ('vagina', 0.9568168520927429)],\n",
       " 'diet': [('slice', 0.9773449897766113),\n",
       "  ('weight loss', 0.9766416549682617),\n",
       "  ('laranja', 0.974677562713623),\n",
       "  ('food_photography', 0.9716360569000244),\n",
       "  ('eggplant', 0.9715573787689209),\n",
       "  ('melon', 0.9711610078811646),\n",
       "  ('protein', 0.9688095450401306),\n",
       "  ('vegan', 0.9673672914505005),\n",
       "  ('zero waste', 0.9672787189483643),\n",
       "  ('hiv', 0.9659593105316162)],\n",
       " 'coffee': [('cup', 0.9858179092407227),\n",
       "  ('coffee cup', 0.9809228777885437),\n",
       "  ('saucer', 0.9784522652626038),\n",
       "  ('latte', 0.9525063633918762),\n",
       "  ('mug', 0.9503895044326782),\n",
       "  ('kaffee', 0.942527174949646),\n",
       "  ('ceramic', 0.9414317011833191),\n",
       "  ('cafe', 0.9413888454437256),\n",
       "  ('mug mockup', 0.9402399659156799),\n",
       "  ('tea', 0.9385089874267578)],\n",
       " 'beverage': [('alcohol', 0.9931752681732178),\n",
       "  ('drink', 0.9873687028884888),\n",
       "  ('beer', 0.98485267162323),\n",
       "  ('cocktail', 0.9771802425384521),\n",
       "  ('soda', 0.9578584432601929),\n",
       "  ('pub', 0.9495869874954224),\n",
       "  ('beer glass', 0.9484153985977173),\n",
       "  ('hydration', 0.9466499090194702),\n",
       "  ('glass bottle', 0.9434535503387451),\n",
       "  ('pepsi', 0.9402823448181152)],\n",
       " 'hardware': [('keyboard', 0.9779345989227295),\n",
       "  ('computer hardware', 0.9764934182167053),\n",
       "  ('computer keyboard', 0.9709795117378235),\n",
       "  ('switch', 0.9575543403625488),\n",
       "  ('mechanical keyboard', 0.9494873285293579),\n",
       "  ('headset', 0.9486023783683777),\n",
       "  ('microsoft', 0.948532223701477),\n",
       "  ('electronic chip', 0.9461990594863892),\n",
       "  ('gaming', 0.945844829082489),\n",
       "  ('video gaming', 0.9453734755516052)],\n",
       " 'appliance': [('the home depot', 0.9200101494789124),\n",
       "  ('stainless steel', 0.9102932214736938),\n",
       "  ('air conditioning', 0.9059206247329712),\n",
       "  ('storage', 0.9041678309440613),\n",
       "  ('corner', 0.8886290788650513),\n",
       "  ('table lamp', 0.8854410648345947),\n",
       "  ('shelf', 0.8810411095619202),\n",
       "  ('warehouse', 0.8779565095901489),\n",
       "  ('tap', 0.8770583868026733),\n",
       "  ('light fixture', 0.875979483127594)],\n",
       " 'laptop': [('pc', 0.9777941703796387),\n",
       "  ('computer', 0.9647258520126343),\n",
       "  ('google chromebook', 0.9637486338615417),\n",
       "  ('customer care', 0.9506545662879944),\n",
       "  ('working', 0.9504148364067078),\n",
       "  ('website background', 0.9493353962898254),\n",
       "  ('blogging', 0.9444358348846436),\n",
       "  ('apprenticeship', 0.9438035488128662),\n",
       "  ('apprentice', 0.9433241486549377),\n",
       "  ('online', 0.9432885646820068)],\n",
       " 'desktop': [('desktop computer', 0.9452774524688721),\n",
       "  ('desktop wallpaper', 0.9436025619506836),\n",
       "  ('tumblr background', 0.9383976459503174),\n",
       "  ('minimal wallpaper', 0.9288865327835083),\n",
       "  ('nature flower', 0.9283263087272644),\n",
       "  ('laptop wallpaper', 0.92734694480896),\n",
       "  ('desktop wallpapers', 0.9173585176467896),\n",
       "  ('planet', 0.9119265079498291),\n",
       "  ('dark mode wallpaper', 0.9086463451385498),\n",
       "  ('desktop background', 0.9080517292022705)],\n",
       " 'air conditioners': [('retro gaming', 0.7871506214141846),\n",
       "  ('civil engineering', 0.7821527719497681),\n",
       "  ('architecture black and white', 0.7780139446258545),\n",
       "  ('lamp post', 0.7445733547210693),\n",
       "  ('tile roof', 0.728471040725708),\n",
       "  ('rooftop bar', 0.7282426357269287),\n",
       "  ('upward', 0.7227033376693726),\n",
       "  ('microsoft logo', 0.7027076482772827),\n",
       "  ('billboards', 0.7001099586486816),\n",
       "  ('business center', 0.6963792443275452)],\n",
       " 'digital': [('social media', 0.9818173050880432),\n",
       "  ('datum', 0.9816575646400452),\n",
       "  ('css', 0.9736582040786743),\n",
       "  ('data', 0.9717947244644165),\n",
       "  ('google', 0.9709454774856567),\n",
       "  ('linkedin banner', 0.9708878993988037),\n",
       "  ('newsletters', 0.970178484916687),\n",
       "  ('seo', 0.9675885438919067),\n",
       "  ('macbook', 0.9669007062911987),\n",
       "  ('digital marketing', 0.9663552641868591)]}"
      ]
     },
     "execution_count": 22,
     "metadata": {},
     "output_type": "execute_result"
    }
   ],
   "source": [
    "tag_dict"
   ]
  },
  {
   "cell_type": "code",
   "execution_count": 35,
   "metadata": {},
   "outputs": [
    {
     "data": {
      "text/plain": [
       "190"
      ]
     },
     "execution_count": 35,
     "metadata": {},
     "output_type": "execute_result"
    }
   ],
   "source": [
    "len(tag_set)"
   ]
  },
  {
   "cell_type": "code",
   "execution_count": null,
   "metadata": {},
   "outputs": [],
   "source": []
  }
 ],
 "metadata": {
  "kernelspec": {
   "display_name": "vir_py3.7",
   "language": "python",
   "name": "python3"
  },
  "language_info": {
   "codemirror_mode": {
    "name": "ipython",
    "version": 3
   },
   "file_extension": ".py",
   "mimetype": "text/x-python",
   "name": "python",
   "nbconvert_exporter": "python",
   "pygments_lexer": "ipython3",
   "version": "3.9.16"
  },
  "orig_nbformat": 4
 },
 "nbformat": 4,
 "nbformat_minor": 2
}
