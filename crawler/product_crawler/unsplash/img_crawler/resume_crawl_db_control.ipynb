{
 "cells": [
  {
   "cell_type": "code",
   "execution_count": 1,
   "metadata": {},
   "outputs": [
    {
     "name": "stdout",
     "output_type": "stream",
     "text": [
      "db.product_detection_data.deleteMany({tag:{$eq:[\"musicvideo\"]}})\n",
      "db.product_detection_data.updateMany({}, {$pull:{tag:\"musicvideo\"}})\n"
     ]
    }
   ],
   "source": [
    "tag_name = \"musicvideo\"\n",
    "\n",
    "print(f'db.product_detection_data.deleteMany({{tag:{{$eq:[\"{tag_name}\"]}}}})')\n",
    "print(f'db.product_detection_data.updateMany({{}}, {{$pull:{{tag:\"{tag_name}\"}}}})')"
   ]
  },
  {
   "cell_type": "code",
   "execution_count": null,
   "metadata": {},
   "outputs": [],
   "source": []
  }
 ],
 "metadata": {
  "kernelspec": {
   "display_name": "kjg_ver39",
   "language": "python",
   "name": "python3"
  },
  "language_info": {
   "codemirror_mode": {
    "name": "ipython",
    "version": 3
   },
   "file_extension": ".py",
   "mimetype": "text/x-python",
   "name": "python",
   "nbconvert_exporter": "python",
   "pygments_lexer": "ipython3",
   "version": "3.9.16"
  },
  "orig_nbformat": 4
 },
 "nbformat": 4,
 "nbformat_minor": 2
}
